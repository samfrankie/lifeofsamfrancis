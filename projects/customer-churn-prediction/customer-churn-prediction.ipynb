This is a conceptual outline of the code you would write. You would fill in the code blocks and markdown cells in a Jupyter Notebook.

Title: # Customer Churn Prediction with Scikit-learn

Markdown: ## 1. Project Setup and Data Loading
Code: import pandas as pd, import numpy as np, import matplotlib.pyplot as plt, import seaborn as sns, from sklearn.model_selection import train_test_split, from sklearn.ensemble import RandomForestClassifier, from sklearn.metrics import classification_report, confusion_matrix, roc_curve, auc, df = pd.read_csv('data/telco_customer_churn.csv'), print(df.head())

Markdown: ## 2. Data Cleaning and Preprocessing
Code: df.drop(['customerID'], axis=1, inplace=True), df.replace(' ', np.nan, inplace=True), df.dropna(inplace=True), df['TotalCharges'] = pd.to_numeric(df['TotalCharges']), df['gender'] = df['gender'].map({'Female': 0, 'Male': 1}), df_encoded = pd.get_dummies(df, drop_first=True)

Markdown: ## 3. Exploratory Data Analysis (EDA)
Code: sns.countplot(x='Churn', data=df_encoded), plt.title('Churn Distribution'), plt.show()

Markdown: ## 4. Model Building
Code: X = df_encoded.drop('Churn_Yes', axis=1), y = df_encoded['Churn_Yes'], X_train, X_test, y_train, y_test = train_test_split(X, y, test_size=0.2, random_state=42, stratify=y), model = RandomForestClassifier(n_estimators=100, random_state=42), model.fit(X_train, y_train), y_pred = model.predict(X_test)

Markdown: ## 5. Model Evaluation
Code: print(confusion_matrix(y_test, y_pred)), print(classification_report(y_test, y_pred))

Markdown: ## 6. Feature Importance
Code: feature_importances = pd.Series(model.feature_importances_, index=X.columns).sort_values(ascending=False), sns.barplot(x=feature_importances[:10], y=feature_importances.index[:10]), plt.show()
Markdown: ### Interpretation:, The feature importance plot shows that contract type, monthly charges, and total charges are the most influential factors in predicting customer churn.

telco_customer_churn.csv (Simulated Data)
This is a publicly available dataset from Kaggle, so you can point to it directly or include a copy in the data/ folder.
